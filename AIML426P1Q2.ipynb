{
 "cells": [
  {
   "cell_type": "markdown",
   "metadata": {},
   "source": [
    "# AIML426 Project 1 Q2  \n",
    "\n",
    "## Genetic Algorithm for Feature Selection  \n",
    "\n",
    "Genetic algorithm can be used for feature selection, given $N$ features, each feature selection result can be represented as a $N$-dimensional binary list $X=(x_1, ..., x_n)$, where $x_i=1$ means the feature $i$ is selected and $x_i=0$ otherwise.  \n",
    "\n",
    "### Problem description  \n",
    "\n",
    "Take a dataset with $N$ features and determine the optimal selection of features for fitting a good predictive model.  "
   ]
  },
  {
   "cell_type": "code",
   "execution_count": 1,
   "metadata": {},
   "outputs": [],
   "source": [
    "# import function\n",
    "import feat_select as fs\n",
    "\n",
    "\n",
    "# function for running experiment N-times\n",
    "def multi_run(func, data = None, feat_names = None, params = None, n=1):\n",
    "    from datetime import datetime as dt\n",
    "    # accept only singular parameters - i.e. feed one function only\n",
    "    best_indiv = []\n",
    "    run_stats = []\n",
    "    time_delta = []\n",
    "    population = []\n",
    "\n",
    "    for r in range(n): \n",
    "        start = dt.now()\n",
    "        if feat_names:\n",
    "            if params:\n",
    "                pop, stat, hof = func(data, feat_names, params)\n",
    "                \n",
    "            else:\n",
    "                pop, stat, hof = func(data, feat_names)\n",
    "                \n",
    "        else: \n",
    "            pop, stat, hof = func(data, params)\n",
    "\n",
    "        \n",
    "        end = dt.now()\n",
    "        time = end - start\n",
    "\n",
    "        run_stats.append(stat)\n",
    "        best_indiv.append(hof)\n",
    "        time_delta.append(time)\n",
    "        population.append(pop)\n",
    "                \n",
    "    return run_stats, best_indiv, time_delta, population\n",
    "\n",
    "# function for running through the different datasets or different functions\n",
    "def changing_run(paths = None, feat_names = None, func = None, params = None, n = 1):\n",
    "\n",
    "    diffs = [[],[], [], []] \n",
    "\n",
    "    if len(paths) > 1:\n",
    "        # iterate paths, keep all other parameters the same, function is required, params are optional\n",
    "        for p, dat in enumerate(paths):\n",
    "            if len(feat_names) > 1:\n",
    "                # include feat_names input\n",
    "                if params:\n",
    "                    run, best, time, population = multi_run(func, \n",
    "                                           data= dat, \n",
    "                                           feat_names= feat_names[p], \n",
    "                                           params = params, \n",
    "                                           n = n)\n",
    "                else:\n",
    "                    run, best, time, population = multi_run(func, \n",
    "                                           data= dat, \n",
    "                                           feat_names= feat_names[p], \n",
    "                                           n = n)\n",
    "            \n",
    "            else:\n",
    "                \n",
    "                if params:\n",
    "                    run, best, time, population = multi_run(func, \n",
    "                                           data= dat, \n",
    "                                           params = params, \n",
    "                                           n = n)\n",
    "                else:\n",
    "                    run, best, time, population = multi_run(func, \n",
    "                                           data= dat, \n",
    "                                           n = n)\n",
    "            diffs[0].append(run)\n",
    "            diffs[1].append(best)\n",
    "            diffs[2].append(time)\n",
    "            diffs[3].append(population)\n",
    "\n",
    "    return diffs"
   ]
  },
  {
   "cell_type": "code",
   "execution_count": 2,
   "metadata": {},
   "outputs": [
    {
     "name": "stderr",
     "output_type": "stream",
     "text": [
      "/home/chad/2024 VUW/AIML426/AIML426A1/.venv/lib/python3.12/site-packages/deap/creator.py:185: RuntimeWarning: A class named 'FitnessFS' has already been created and it will be overwritten. Consider deleting previous creation of that class or rename it.\n",
      "  warnings.warn(\"A class named '{0}' has already been created and it \"\n",
      "/home/chad/2024 VUW/AIML426/AIML426A1/.venv/lib/python3.12/site-packages/deap/creator.py:185: RuntimeWarning: A class named 'Individual_FS' has already been created and it will be overwritten. Consider deleting previous creation of that class or rename it.\n",
      "  warnings.warn(\"A class named '{0}' has already been created and it \"\n"
     ]
    }
   ],
   "source": [
    "# test the wrapper function\n",
    "WrapperGA = changing_run(func = fs.main,\n",
    "                         params = \"FEAT_SEL = 'Wrapper'\",\n",
    "                         paths = ['wbcd.data', 'sonar.data'],\n",
    "                         feat_names = ['wbcd.names', 'sonar.names'],\n",
    "                         n = 5)  \n"
   ]
  },
  {
   "cell_type": "code",
   "execution_count": null,
   "metadata": {},
   "outputs": [
    {
     "name": "stderr",
     "output_type": "stream",
     "text": [
      "/home/chad/2024 VUW/AIML426/AIML426A1/.venv/lib/python3.12/site-packages/deap/creator.py:185: RuntimeWarning: A class named 'FitnessFS' has already been created and it will be overwritten. Consider deleting previous creation of that class or rename it.\n",
      "  warnings.warn(\"A class named '{0}' has already been created and it \"\n",
      "/home/chad/2024 VUW/AIML426/AIML426A1/.venv/lib/python3.12/site-packages/deap/creator.py:185: RuntimeWarning: A class named 'Individual_FS' has already been created and it will be overwritten. Consider deleting previous creation of that class or rename it.\n",
      "  warnings.warn(\"A class named '{0}' has already been created and it \"\n"
     ]
    },
    {
     "name": "stderr",
     "output_type": "stream",
     "text": [
      "/home/chad/2024 VUW/AIML426/AIML426A1/.venv/lib/python3.12/site-packages/deap/creator.py:185: RuntimeWarning: A class named 'FitnessFS' has already been created and it will be overwritten. Consider deleting previous creation of that class or rename it.\n",
      "  warnings.warn(\"A class named '{0}' has already been created and it \"\n",
      "/home/chad/2024 VUW/AIML426/AIML426A1/.venv/lib/python3.12/site-packages/deap/creator.py:185: RuntimeWarning: A class named 'Individual_FS' has already been created and it will be overwritten. Consider deleting previous creation of that class or rename it.\n",
      "  warnings.warn(\"A class named '{0}' has already been created and it \"\n",
      "/home/chad/2024 VUW/AIML426/AIML426A1/.venv/lib/python3.12/site-packages/deap/creator.py:185: RuntimeWarning: A class named 'FitnessFS' has already been created and it will be overwritten. Consider deleting previous creation of that class or rename it.\n",
      "  warnings.warn(\"A class named '{0}' has already been created and it \"\n",
      "/home/chad/2024 VUW/AIML426/AIML426A1/.venv/lib/python3.12/site-packages/deap/creator.py:185: RuntimeWarning: A class named 'Individual_FS' has already been created and it will be overwritten. Consider deleting previous creation of that class or rename it.\n",
      "  warnings.warn(\"A class named '{0}' has already been created and it \"\n",
      "/home/chad/2024 VUW/AIML426/AIML426A1/.venv/lib/python3.12/site-packages/deap/creator.py:185: RuntimeWarning: A class named 'FitnessFS' has already been created and it will be overwritten. Consider deleting previous creation of that class or rename it.\n",
      "  warnings.warn(\"A class named '{0}' has already been created and it \"\n",
      "/home/chad/2024 VUW/AIML426/AIML426A1/.venv/lib/python3.12/site-packages/deap/creator.py:185: RuntimeWarning: A class named 'Individual_FS' has already been created and it will be overwritten. Consider deleting previous creation of that class or rename it.\n",
      "  warnings.warn(\"A class named '{0}' has already been created and it \"\n",
      "/home/chad/2024 VUW/AIML426/AIML426A1/.venv/lib/python3.12/site-packages/deap/creator.py:185: RuntimeWarning: A class named 'FitnessFS' has already been created and it will be overwritten. Consider deleting previous creation of that class or rename it.\n",
      "  warnings.warn(\"A class named '{0}' has already been created and it \"\n",
      "/home/chad/2024 VUW/AIML426/AIML426A1/.venv/lib/python3.12/site-packages/deap/creator.py:185: RuntimeWarning: A class named 'Individual_FS' has already been created and it will be overwritten. Consider deleting previous creation of that class or rename it.\n",
      "  warnings.warn(\"A class named '{0}' has already been created and it \"\n",
      "/home/chad/2024 VUW/AIML426/AIML426A1/.venv/lib/python3.12/site-packages/deap/creator.py:185: RuntimeWarning: A class named 'FitnessFS' has already been created and it will be overwritten. Consider deleting previous creation of that class or rename it.\n",
      "  warnings.warn(\"A class named '{0}' has already been created and it \"\n",
      "/home/chad/2024 VUW/AIML426/AIML426A1/.venv/lib/python3.12/site-packages/deap/creator.py:185: RuntimeWarning: A class named 'Individual_FS' has already been created and it will be overwritten. Consider deleting previous creation of that class or rename it.\n",
      "  warnings.warn(\"A class named '{0}' has already been created and it \"\n",
      "/home/chad/2024 VUW/AIML426/AIML426A1/.venv/lib/python3.12/site-packages/deap/creator.py:185: RuntimeWarning: A class named 'FitnessFS' has already been created and it will be overwritten. Consider deleting previous creation of that class or rename it.\n",
      "  warnings.warn(\"A class named '{0}' has already been created and it \"\n",
      "/home/chad/2024 VUW/AIML426/AIML426A1/.venv/lib/python3.12/site-packages/deap/creator.py:185: RuntimeWarning: A class named 'Individual_FS' has already been created and it will be overwritten. Consider deleting previous creation of that class or rename it.\n",
      "  warnings.warn(\"A class named '{0}' has already been created and it \"\n",
      "/home/chad/2024 VUW/AIML426/AIML426A1/.venv/lib/python3.12/site-packages/deap/creator.py:185: RuntimeWarning: A class named 'FitnessFS' has already been created and it will be overwritten. Consider deleting previous creation of that class or rename it.\n",
      "  warnings.warn(\"A class named '{0}' has already been created and it \"\n",
      "/home/chad/2024 VUW/AIML426/AIML426A1/.venv/lib/python3.12/site-packages/deap/creator.py:185: RuntimeWarning: A class named 'Individual_FS' has already been created and it will be overwritten. Consider deleting previous creation of that class or rename it.\n",
      "  warnings.warn(\"A class named '{0}' has already been created and it \"\n",
      "/home/chad/2024 VUW/AIML426/AIML426A1/.venv/lib/python3.12/site-packages/deap/creator.py:185: RuntimeWarning: A class named 'FitnessFS' has already been created and it will be overwritten. Consider deleting previous creation of that class or rename it.\n",
      "  warnings.warn(\"A class named '{0}' has already been created and it \"\n",
      "/home/chad/2024 VUW/AIML426/AIML426A1/.venv/lib/python3.12/site-packages/deap/creator.py:185: RuntimeWarning: A class named 'Individual_FS' has already been created and it will be overwritten. Consider deleting previous creation of that class or rename it.\n",
      "  warnings.warn(\"A class named '{0}' has already been created and it \"\n",
      "/home/chad/2024 VUW/AIML426/AIML426A1/.venv/lib/python3.12/site-packages/deap/creator.py:185: RuntimeWarning: A class named 'FitnessFS' has already been created and it will be overwritten. Consider deleting previous creation of that class or rename it.\n",
      "  warnings.warn(\"A class named '{0}' has already been created and it \"\n",
      "/home/chad/2024 VUW/AIML426/AIML426A1/.venv/lib/python3.12/site-packages/deap/creator.py:185: RuntimeWarning: A class named 'Individual_FS' has already been created and it will be overwritten. Consider deleting previous creation of that class or rename it.\n",
      "  warnings.warn(\"A class named '{0}' has already been created and it \"\n"
     ]
    }
   ],
   "source": [
    "# test the filter function\n",
    "FilterGA = changing_run(func = fs.main,\n",
    "                        paths = ['wbcd.data', 'sonar.data'],\n",
    "                        feat_names = ['wbcd.names', 'sonar.names'], \n",
    "                        n = 5)  "
   ]
  },
  {
   "cell_type": "code",
   "execution_count": 86,
   "metadata": {},
   "outputs": [
    {
     "data": {
      "text/plain": [
       "[1,\n",
       " 0,\n",
       " 1,\n",
       " 0,\n",
       " 0,\n",
       " 0,\n",
       " 0,\n",
       " 1,\n",
       " 0,\n",
       " 0,\n",
       " 0,\n",
       " 0,\n",
       " 1,\n",
       " 0,\n",
       " 0,\n",
       " 0,\n",
       " 0,\n",
       " 0,\n",
       " 0,\n",
       " 0,\n",
       " 1,\n",
       " 0,\n",
       " 1,\n",
       " 1,\n",
       " 0,\n",
       " 0,\n",
       " 1,\n",
       " 1,\n",
       " 0,\n",
       " 0]"
      ]
     },
     "execution_count": 86,
     "metadata": {},
     "output_type": "execute_result"
    }
   ],
   "source": [
    "FilterGA[1][0][4][0] # WrapperGA[stats[dat[run[gen]]], hof[dat[run[indiv]]], time[dat[delta]]]"
   ]
  }
 ],
 "metadata": {
  "kernelspec": {
   "display_name": ".venv",
   "language": "python",
   "name": "python3"
  },
  "language_info": {
   "codemirror_mode": {
    "name": "ipython",
    "version": 3
   },
   "file_extension": ".py",
   "mimetype": "text/x-python",
   "name": "python",
   "nbconvert_exporter": "python",
   "pygments_lexer": "ipython3",
   "version": "3.12.3"
  }
 },
 "nbformat": 4,
 "nbformat_minor": 2
}
