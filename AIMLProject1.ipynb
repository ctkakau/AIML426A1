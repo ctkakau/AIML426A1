{
 "cells": [
  {
   "cell_type": "markdown",
   "metadata": {},
   "source": [
    "# AIML426 Project 1\n",
    "### Chad Kakau\n",
    "\n",
    "The next few code blocks are development process:\n",
    "\n",
    "Copied knapsack example from deap and trying to rejig that example code to allow the user to input items and get the results out.\n",
    "\n",
    "First code block imports libraries and knapsack() script.  Also reads in the first dataset, that has max items as header for column 1 and max weight as header for column two.  Each row represents {item: 'value', 'weight'}.\n",
    "\n",
    "In the original script, weights were in first column, so change this text once the script is altered."
   ]
  },
  {
   "cell_type": "code",
   "execution_count": 1,
   "metadata": {},
   "outputs": [],
   "source": [
    "import random\n",
    "import numpy\n",
    "import knapsack \n",
    "import pandas as pd\n",
    "from deap import algorithms\n",
    "from deap import base\n",
    "from deap import creator\n",
    "from deap import tools\n",
    "\n",
    "IND_INIT_SIZE = 5\n",
    "MAX_ITEM = 50\n",
    "MAX_WEIGHT = 20\n",
    "NBR_ITEMS = 20\n",
    "\n",
    "# items = {}\n",
    "# # Create random items and store them in the items' dictionary.\n",
    "# for i in range(NBR_ITEMS):\n",
    "#     items[i] = (random.randint(1, 10), random.uniform(0, 100))\n",
    "\n",
    "# test with 10 items and bag capcity of 269\n",
    "bag10 = pd.read_csv(\"10_269\",\n",
    "                    sep = ' ',)\n",
    "#                     header = 0,\n",
    "#                     names = ['value', 'weight'])\n",
    "\n"
   ]
  },
  {
   "cell_type": "markdown",
   "metadata": {},
   "source": [
    "this next code block was just for interim testing"
   ]
  },
  {
   "cell_type": "code",
   "execution_count": 9,
   "metadata": {},
   "outputs": [
    {
     "data": {
      "text/plain": [
       "'weight'"
      ]
     },
     "execution_count": 9,
     "metadata": {},
     "output_type": "execute_result"
    }
   ],
   "source": [
    "\n",
    "\n"
   ]
  },
  {
   "cell_type": "markdown",
   "metadata": {},
   "source": [
    "The following block was testing code to take column names as integers and feed them as MAX_ITEM and MAX_WEIGHT parameters.  The columns names are changed to 'value' and 'weight'.  Then the rows are converted to dict for use in the script."
   ]
  },
  {
   "cell_type": "code",
   "execution_count": 2,
   "metadata": {},
   "outputs": [],
   "source": [
    "MAX_ITEM, MAX_WEIGHT = [int(i) for i in bag10.columns]\n",
    "bag10.columns = ['value', 'weight']\n",
    "bag10 = bag10.to_dict(orient = 'records')\n"
   ]
  },
  {
   "cell_type": "markdown",
   "metadata": {},
   "source": [
    "An error is raised when running the script, a key error (key = 0) when looking for 'items[item][0] which is meant to have the weight value for a particular item.  \n",
    "'items' is the internal variable for all of the different items.  'item' is the iterator, and the '[0]' indicates the dict entry.\n",
    "\n",
    "TODO:  check bag10, for each item and then how to retrieve the weight or value from a particular item\n",
    "  - bag[0] returns the first item, as a dict:  {'value': 55, 'weight' : 95}\n",
    "  -bag10[0]['value'] returns 55, the value from the dict\n",
    "  ^^^ good\n",
    "  -bag10[0][0] returns the key error.  \n",
    "  - Try with out naming the dict entries\n",
    "TODO:  then update the script, assuming that 'value' and 'weight' will be hard coded.\n",
    "  ^^^ script updated"
   ]
  },
  {
   "cell_type": "code",
   "execution_count": 3,
   "metadata": {},
   "outputs": [
    {
     "data": {
      "text/plain": [
       "55"
      ]
     },
     "execution_count": 3,
     "metadata": {},
     "output_type": "execute_result"
    }
   ],
   "source": [
    "bag10[0]['value']"
   ]
  },
  {
   "cell_type": "code",
   "execution_count": 4,
   "metadata": {},
   "outputs": [
    {
     "name": "stdout",
     "output_type": "stream",
     "text": [
      "gen\tnevals\tavg              \tstd                          \tmin      \tmax            \n",
      "0  \t50    \t[4513.84   78.8 ]\t[4863.084426     77.71589284]\t[84.  0.]\t[10000.   237.]\n",
      "1  \t42    \t[141.64 117.3 ]  \t[68.65704916 66.03340064]    \t[0. 0.]  \t[267. 237.]    \n",
      "2  \t46    \t[83.88 83.12]    \t[85.66764617 81.6153515 ]    \t[0. 0.]  \t[226. 237.]    \n",
      "3  \t45    \t[40.46 45.36]    \t[70.28633153 73.8644055 ]    \t[0. 0.]  \t[210. 237.]    \n",
      "4  \t45    \t[24.14 29.46]    \t[58.24775017 66.9394383 ]    \t[0. 0.]  \t[210. 237.]    \n",
      "5  \t47    \t[24.14 29.46]    \t[58.24775017 66.9394383 ]    \t[0. 0.]  \t[210. 237.]    \n",
      "6  \t41    \t[39.46 46.4 ]    \t[71.20090168 78.32981552]    \t[0. 0.]  \t[210. 237.]    \n",
      "7  \t46    \t[34.62 38.52]    \t[71.77796041 78.32604675]    \t[0. 0.]  \t[210. 237.]    \n",
      "8  \t45    \t[42.82 51.06]    \t[73.01580377 83.74232144]    \t[0. 0.]  \t[210. 237.]    \n",
      "9  \t43    \t[46.94 55.6 ]    \t[76.2247755  86.94319985]    \t[0. 0.]  \t[210. 237.]    \n",
      "10 \t43    \t[60.86 74.6 ]    \t[75.96947018 86.37962723]    \t[0. 0.]  \t[210. 237.]    \n",
      "11 \t42    \t[ 92.46 114.84]  \t[73.58402272 76.90835065]    \t[0. 0.]  \t[210. 237.]    \n",
      "12 \t41    \t[105.48 126.66]  \t[76.77636095 76.63826981]    \t[0. 0.]  \t[210. 237.]    \n",
      "13 \t44    \t[88.96 99.64]    \t[86.64178207 95.56249474]    \t[0. 0.]  \t[210. 237.]    \n",
      "14 \t44    \t[55.4  67.88]    \t[80.54837056 93.69538729]    \t[0. 0.]  \t[210. 237.]    \n",
      "15 \t44    \t[74.28 89.6 ]    \t[ 88.13445183 100.98098831]  \t[0. 0.]  \t[210. 237.]    \n",
      "16 \t45    \t[ 83.22 100.94]  \t[ 90.51149982 102.76310817]  \t[0. 0.]  \t[210. 237.]    \n",
      "17 \t48    \t[20.9  31.12]    \t[44.09546462 64.22854194]    \t[0. 0.]  \t[177. 243.]    \n",
      "18 \t41    \t[28.1  40.88]    \t[50.00129998 71.55407466]    \t[0. 0.]  \t[177. 243.]    \n",
      "19 \t46    \t[30.02 44.56]    \t[49.73428998 71.48654699]    \t[0. 0.]  \t[177. 243.]    \n",
      "20 \t47    \t[36.08 52.62]    \t[56.78656179 80.58136013]    \t[0. 0.]  \t[177. 243.]    \n",
      "21 \t48    \t[41.08 59.5 ]    \t[59.76682692 84.30284693]    \t[0. 0.]  \t[177. 243.]    \n",
      "22 \t45    \t[45.9  65.42]    \t[60.21137766 84.66737034]    \t[0. 0.]  \t[177. 243.]    \n",
      "23 \t47    \t[43.12 60.48]    \t[62.55066427 87.52467995]    \t[0. 0.]  \t[177. 243.]    \n",
      "24 \t45    \t[47.36 65.94]    \t[63.81685044 88.98840599]    \t[0. 0.]  \t[177. 243.]    \n",
      "25 \t48    \t[59.9  82.52]    \t[72.08002497 96.81595736]    \t[0. 0.]  \t[233. 280.]    \n",
      "26 \t46    \t[53.4  73.44]    \t[71.1783675  95.88100125]    \t[0. 0.]  \t[233. 280.]    \n",
      "27 \t40    \t[65.86 91.76]    \t[ 75.35410009 100.9656496 ]  \t[0. 0.]  \t[233. 280.]    \n",
      "28 \t46    \t[ 89.22 128.14]  \t[68.8988505  90.32829236]    \t[0. 0.]  \t[233. 280.]    \n",
      "29 \t41    \t[ 81.3 111.9]    \t[ 77.25548524 101.64413412]  \t[0. 0.]  \t[233. 280.]    \n",
      "30 \t47    \t[69.68 95.46]    \t[ 77.83249707 103.21961248]  \t[0. 0.]  \t[233. 280.]    \n",
      "31 \t43    \t[ 92.06 124.9 ]  \t[ 81.76879845 104.99185683]  \t[0. 0.]  \t[233. 280.]    \n",
      "32 \t45    \t[ 93.22 125.92]  \t[ 82.55429486 105.90162227]  \t[0. 0.]  \t[233. 280.]    \n",
      "33 \t49    \t[101.14 134.66]  \t[ 83.0929624  105.04106054]  \t[0. 0.]  \t[233. 280.]    \n",
      "34 \t42    \t[ 89.06 116.3 ]  \t[ 87.09659236 107.67622765]  \t[0. 0.]  \t[233. 280.]    \n",
      "35 \t42    \t[ 98.08 127.38]  \t[ 87.1003651  106.02525925]  \t[0. 0.]  \t[233. 280.]    \n",
      "36 \t45    \t[120.18 159.26]  \t[75.17916999 86.95442714]    \t[0. 0.]  \t[233. 280.]    \n",
      "37 \t46    \t[114.78 147.98]  \t[ 88.74396656 106.36117525]  \t[0. 0.]  \t[233. 280.]    \n",
      "38 \t45    \t[145.24 184.22]  \t[82.80375837 96.59094989]    \t[0. 0.]  \t[233. 280.]    \n",
      "39 \t42    \t[150.6 190.5]    \t[78.83222691 92.01918278]    \t[0. 0.]  \t[233. 280.]    \n",
      "40 \t45    \t[155.08 196.16]  \t[80.82322439 93.50344593]    \t[0. 0.]  \t[233. 280.]    \n",
      "41 \t46    \t[150.98 192.98]  \t[79.21880837 91.92224758]    \t[0. 0.]  \t[233. 280.]    \n",
      "42 \t46    \t[151.18 191.62]  \t[81.37190916 95.1005552 ]    \t[0. 0.]  \t[233. 280.]    \n",
      "43 \t46    \t[149.6 192.3]    \t[75.65500644 86.44287131]    \t[0. 0.]  \t[233. 280.]    \n",
      "44 \t44    \t[152.42 194.34]  \t[77.82444089 89.09648927]    \t[0. 0.]  \t[233. 280.]    \n",
      "45 \t45    \t[149.72 190.18]  \t[79.30776507 90.75630887]    \t[0. 0.]  \t[233. 280.]    \n",
      "46 \t43    \t[137.88 177.94]  \t[76.30377186 89.13886021]    \t[0. 0.]  \t[233. 280.]    \n",
      "47 \t44    \t[147.18 188.2 ]  \t[76.82829947 88.66746867]    \t[0. 0.]  \t[233. 280.]    \n",
      "48 \t43    \t[153.5  195.24]  \t[77.05459104 90.04033763]    \t[0. 0.]  \t[233. 280.]    \n",
      "49 \t45    \t[150.18 189.36]  \t[ 87.65744464 101.94542854]  \t[0. 0.]  \t[233. 280.]    \n",
      "50 \t41    \t[148.64 188.76]  \t[80.66814985 92.7755485 ]    \t[0. 0.]  \t[233. 280.]    \n"
     ]
    }
   ],
   "source": [
    "IND_INIT_SIZE = 8\n",
    "# MAX_ITEM = 20\n",
    "# MAX_WEIGHT = 269\n",
    "NBR_ITEMS = 10\n",
    "NGEN = 100\n",
    "\n",
    "\n",
    "test_10_269 = knapsack.main(bag10,\n",
    "                        MAX_WEIGHT= MAX_WEIGHT,\n",
    "                        )\n"
   ]
  },
  {
   "cell_type": "markdown",
   "metadata": {},
   "source": [
    "Script runs fine, so now need to refine the script to achieve the objectives of the project:\n",
    "\n",
    "  - interface: code the read-in process:\n",
    "    - read_csv\n",
    "    - retrieve MAX_ITEM, MAX_WEIGHT values\n",
    "    - convert column names\n",
    "    - convert rows to dict\n",
    "\n",
    "  - performance:\n",
    "    aim for the optimal value\n",
    "  - stats: output the total value and total weight of the best solution \n",
    "  - convergence curve: mean(top5_solutions_in_generation)\n",
    "    - retain top5 solutions\n",
    "      - rank solutions by value (high to low) and weight <=MAX_WEIGHT\n",
    "      - if weight <= MAX_WEIGHT compare else reject\n",
    "      - while len(top5 < 6) accept\n",
    "      - (store first five )\n",
    "      - sort by highest value\n",
    "      - if value > top5[5]['value'], append(top5), else reject\n",
    "      - sort(top5)\n",
    "      - retain(top5[0:5]) (is this how to say keep the top 5?)\n",
    "\n"
   ]
  }
 ],
 "metadata": {
  "kernelspec": {
   "display_name": ".venv",
   "language": "python",
   "name": "python3"
  },
  "language_info": {
   "codemirror_mode": {
    "name": "ipython",
    "version": 3
   },
   "file_extension": ".py",
   "mimetype": "text/x-python",
   "name": "python",
   "nbconvert_exporter": "python",
   "pygments_lexer": "ipython3",
   "version": "3.12.3"
  }
 },
 "nbformat": 4,
 "nbformat_minor": 2
}
